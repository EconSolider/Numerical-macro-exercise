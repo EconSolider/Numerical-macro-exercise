{
 "cells": [
  {
   "cell_type": "code",
   "execution_count": 174,
   "metadata": {},
   "outputs": [],
   "source": [
    "import numpy as np\n",
    "import matplotlib.pyplot as plt\n",
    "import quantecon as qe\n",
    "from scipy.stats import norm"
   ]
  },
  {
   "cell_type": "markdown",
   "metadata": {},
   "source": [
    "## **Contents**\n",
    "- [Introduction](#introduction)\n",
    "- [Structure of SDP](#structure-of-dynamic-programming-problems-with-randomness)\n",
    "- [Marcov Process](#markov-process)\n",
    "    - [Marcov Chain Simulation](#marcov-chain-simulation)\n",
    "    - [Quantecon package](#simulation-by-quantecon)\n",
    "    - [Marginal distribution](#marginal-distribution-of-each-state)\n",
    "    - [Property](#properties-of-marcov-chain)\n",
    "- [Stationary distribution](#stationary-distribution-of-marcov-chain)\n",
    "    - [Theorem of existence](#theorem-1)\n",
    "    - [Theorem of uniqueness](#theorem-2)\n",
    "    - [Calculation](#calculating-stationary-distributions)\n",
    "    - [Convergence](#convergence)\n",
    "    - [Ergodicity](#ergodicity)\n",
    "- [Expectations](#expectations)\n",
    "- [Tauchen Method](#tauchens-method)\n",
    "- [`quantecon.mc`](#attributes-of-marcov-chain-in-quantecon)\n"
   ]
  },
  {
   "cell_type": "markdown",
   "metadata": {},
   "source": [
    "## **Introduction**\n",
    "\n",
    "In previous lectures, we assumed that the state transition probability $Q(s,a,s')$ follows a Markov process. However, we did not justify the necessity of using a Markov process to model the randomness of state transitions.\n",
    "\n",
    "This lecture will \n",
    "1. **outline the general structure of stochastic dynamic programming**.  \n",
    "    We will see that without assuming the \"Markov property\" for state transitions, such problems become unsolvable.  \n",
    "\n",
    "2. **introduce the concept of the Markov process and its characteristics.**  \n",
    "    - The Markov process, with its memoryless property, reduces the computational burden when solving dynamic stochastic discrete programming (DSDP) problems. \n",
    "    - Moreover, we learn that a Markov chain satisfying some condition have unique stationary distribution and can be easily computed using simple algorithms.  \n",
    "\n",
    "3. **learn Tauchen Method**  \n",
    "    discuss how discrete Markov chains can be used to approximate AR(1) processes, allowing us to transform continuous processes into more manageable Markov processes.\n"
   ]
  },
  {
   "cell_type": "markdown",
   "metadata": {},
   "source": [
    "## Structure of Dynamic Programming Problems with Randomness\n",
    "\n",
    "- **State Space**: $\\mathbb{S} \\equiv \\{x_1,x_2,...,x_N\\}$\n",
    "- **State Value**: $x_i \\in \\mathbb{S}$ \n",
    "- **Event**: $s_t \\in \\mathbb{S}$\n",
    "- **Event History**: $s^t \\equiv \\{s_0,s_1,...,s_t\\}$, where $s^t \\in \\underbrace{\\mathbb{S} \\times ... \\times \\mathbb{S}}_{t+1}$\n",
    "- **Probability of an Event History**:  \n",
    "    $$\\pi_t(s^t) > 0, \\forall s^t$$\n",
    "    Notably,  \n",
    "    $$ \\pi_t(s^t) = \n",
    "        \\mathbb{P}(s_0) \\times \\mathbb{P}(s_1 | s_0) \\times \\mathbb{P}(s_2 | s_0, s_1) \\times ... \\times \\mathbb{P}(s_t | s_0, ..., s_{t-1}) \n",
    "    $$\n",
    "    Even if the state space is finite, the complexity of the stochastic process of $s_t$ can make calculating the probability of an event history infeasible.\n",
    "    \n",
    "- **Policy Function**:\n",
    "    $$\\{c_t(s^t)\\}_{t=0}^{\\infty}, s^t \\in \\mathbb{S}^{t}$$\n",
    "    \n",
    "- **Discounted Reward (Value)**:\n",
    "    $$ V \\equiv \\sum_{t=0}^{\\infty} \\sum_{s^t \\in \\mathbb{S}^t} \\beta^t \\pi_t(s^t) u(c_t(s^t)) $$\n"
   ]
  },
  {
   "cell_type": "markdown",
   "metadata": {},
   "source": [
    "## Markov Process\n",
    "\n",
    "The Markov process is a convenient stochastic process characterized by the Markov property (also known as the memoryless property), which simplifies the calculation of the probability of event histories.\n",
    "\n",
    "- **Definition**:  \n",
    "    A **Markov chain** $ \\{s_t\\} $ on $ S $ is a sequence of random variables on $ S $ that satisfies the **Markov property**.  \n",
    "    This means that, for any time $ t $ and any state $ x \\in S $,\n",
    "\n",
    "    $$\n",
    "    \\mathbb{P} \\{ s_{t+1} = x  \\,|\\, s_t \\} = \\mathbb{P} \\{ s_{t+1}  = x \\,|\\, s_t, s_{t-1}, \\ldots \\}\n",
    "    $$\n",
    "\n",
    "- **Dynamics**:  \n",
    "    The dynamics of a Markov chain are governed by the state transition probabilities:\n",
    "\n",
    "    $$\n",
    "    P(x_i, x_j) := \\mathbb{P} \\{ s_{t+1} = x_j \\,|\\, s_t = x_i \\} \n",
    "    \\quad (x_i, x_j \\in \\mathbb{S})\n",
    "    $$\n",
    "\n",
    "    By construction:\n",
    "    1. $P(x_i, x_j)$ is the probability of transitioning from $x_i$ to $x_j$ in one step.\n",
    "    2. $P(x, \\cdot)$ represents the conditional distribution of $s_{t+1}$ given $s_t = x$.\n",
    "    3. We can view $P$ as a stochastic matrix where\n",
    "        $$\n",
    "        P_{ij} = P(x_i, x_j) \\quad (1 \\leq i, j \\leq n)\n",
    "        $$\n",
    "\n",
    "- **Stochastic Matrices**:  \n",
    "    A **stochastic matrix** (or **Markov matrix**) is an $n \\times n$ square matrix $P$ where:\n",
    "    1. Each element of $P$ is nonnegative.\n",
    "    2. Each row of $P$ sums to one.  \n",
    "    Each row of $P$ can be interpreted as a probability mass function over $n$ possible outcomes.\n"
   ]
  },
  {
   "cell_type": "markdown",
   "metadata": {},
   "source": [
    "#### **Marcov Chain Simulation**\n",
    "If we take a stochastic matrix $ P $, we can generate a Markov chain $ \\{s_t\\} $ as follows:\n",
    "1. draw $ s_0 $ from a marginal distribution $\\psi_0$. \n",
    "1. for each $ t = 0, 1, \\ldots $, draw $ s_{t+1} $ from $ P(s_t,\\cdot) $  \n",
    "\n",
    "To implement this simulation procedure, we need a method for generating draws from a discrete distribution.  \n",
    "We use `random.draw` from `QuantEcon`, which works as follows:"
   ]
  },
  {
   "cell_type": "code",
   "execution_count": 175,
   "metadata": {},
   "outputs": [
    {
     "data": {
      "text/plain": [
       "array([0, 1, 0, 0, 0])"
      ]
     },
     "execution_count": 175,
     "metadata": {},
     "output_type": "execute_result"
    }
   ],
   "source": [
    "ψ = (0.3, 0.7)           # probabilities over {0, 1}\n",
    "cdf = np.cumsum(ψ)       # convert into cummulative distribution\n",
    "qe.random.draw(cdf, 5)   # generate 5 independent draws from ψ"
   ]
  },
  {
   "cell_type": "markdown",
   "metadata": {},
   "source": [
    "A function that accepts the following three arguments:\n",
    "- A stochastic matrix `P`  \n",
    "- An initial state `init`  \n",
    "- A positive integer `sample_size` representing the length of the time series  "
   ]
  },
  {
   "cell_type": "code",
   "execution_count": 176,
   "metadata": {},
   "outputs": [],
   "source": [
    "def mc_sample_path(P, ψ_0=None, sample_size=1_000):\n",
    "    \n",
    "    # set up\n",
    "    P = np.asarray(P)\n",
    "    X = np.empty(sample_size, dtype=int)\n",
    "\n",
    "    # Convert each row of P into a cdf\n",
    "    n = len(P)\n",
    "    P_dist = [np.cumsum(P[i, :]) for i in range(n)]\n",
    "\n",
    "    # draw initial state, defaulting to 0\n",
    "    if ψ_0 is not None:\n",
    "        X_0 = qe.random.draw(np.cumsum(ψ_0))\n",
    "    else:\n",
    "        X_0 = 0\n",
    "\n",
    "    # simulate\n",
    "    X[0] = X_0\n",
    "    for t in range(sample_size - 1):\n",
    "        X[t+1] = qe.random.draw(P_dist[X[t]])\n",
    "\n",
    "    return X"
   ]
  },
  {
   "cell_type": "markdown",
   "metadata": {},
   "source": [
    "Let's see how it works:"
   ]
  },
  {
   "cell_type": "code",
   "execution_count": 177,
   "metadata": {},
   "outputs": [
    {
     "data": {
      "image/png": "[encoded data removed]",
      "text/plain": [
       "<Figure size 300x200 with 1 Axes>"
      ]
     },
     "metadata": {},
     "output_type": "display_data"
    }
   ],
   "source": [
    "# Simulation\n",
    "P = [[0.2, 0.2,0.6],\n",
    "     [0.2, 0.1, 0.7],\n",
    "     [0.3,0.6,0.1]]\n",
    "X = mc_sample_path(P, ψ_0=[0.1, 0.1, 0.8], sample_size=30)\n",
    "\n",
    "# Draw the graph\n",
    "plt.figure(figsize=(3, 2))\n",
    "plt.plot(X, marker='o', linestyle='-', color='b')\n",
    "plt.title(\"Simulation of a Marcov Chain\")\n",
    "plt.xlabel(\"Period\")\n",
    "plt.ylabel(\"State\")\n",
    "plt.yticks([0,1,2])\n",
    "plt.grid(True)\n",
    "plt.show()"
   ]
  },
  {
   "cell_type": "markdown",
   "metadata": {},
   "source": [
    "#### **Simulation by QuantEcon**\n",
    "\n",
    "`QuantEcon` has packages for handling Markov chains, including simulation.  \n",
    "**The state values can be integers, floats, or even strings.**  "
   ]
  },
  {
   "cell_type": "code",
   "execution_count": 178,
   "metadata": {},
   "outputs": [
    {
     "name": "stdout",
     "output_type": "stream",
     "text": [
      "States:\n",
      "['employed' 'employed' 'employed' 'employed']\n",
      "Indices of states:\n",
      "[1 1 1 1]\n"
     ]
    }
   ],
   "source": [
    "P = [[0.4, 0.6],\n",
    "     [0.2, 0.8]]\n",
    "\n",
    "mc = qe.MarkovChain(P, state_values=('unemployed', 'employed'))\n",
    "\n",
    "print('States:')\n",
    "print(mc.simulate(ts_length=4, init='employed'))\n",
    "print('Indices of states:')\n",
    "print(mc.simulate_indices(ts_length=4))"
   ]
  },
  {
   "cell_type": "markdown",
   "metadata": {},
   "source": [
    "### **Marginal Distribution of each state**\n",
    "\n",
    "Suppose that  \n",
    "1. $ \\{s_t\\} $ is a Markov chain with stochastic matrix $ P $  \n",
    "1. the marginal distribution of $ s_t $ is known to be $ \\psi_t $  \n",
    "\n",
    "\n",
    "What then is the marginal distribution of $ s_{t+1} $, or, more generally, of $ s_{t+m} $?\n",
    "\n",
    "To answer this, we let $ \\psi_t $ be the marginal distribution of $ s_t $ for $ t = 0, 1, 2, \\ldots $.\n",
    "\n",
    "Our first aim is to find $ \\psi_{t + 1} $ given $ \\psi_t $ and $ P $.\n",
    "\n",
    "To begin, pick any $ y  \\in S $.\n",
    "\n",
    "Using the [law of total probability](https://en.wikipedia.org/wiki/Law_of_total_probability), we can decompose the probability that $ s_{t+1} = y $ as follows:\n",
    "\n",
    "$$\n",
    "\\mathbb P \\{s_{t+1} = y \\}\n",
    "   = \\sum_{x \\in S} \\mathbb P \\{ s_{t+1} = y \\, | \\, s_t = x \\}\n",
    "               \\cdot \\mathbb P \\{ s_t = x \\}\n",
    "$$\n",
    "\n",
    "Rewriting this statement in terms of  marginal and conditional probabilities gives\n",
    "\n",
    "$$\n",
    "\\psi_{t+1}(y) = \\sum_{x \\in S} P(x,y) \\psi_t(x)\n",
    "$$\n",
    "\n",
    "There are $ n $ such equations, one for each $ y \\in S $.\n",
    "\n",
    "If we think of $ \\psi_{t+1} $ and $ \\psi_t $ as **row vectors**, then\n",
    "\n",
    "<a id='equation-fin-mc-fr'></a>\n",
    "$$\n",
    "\\psi_{t+1} = \\psi_t P \\tag{1}\n",
    "$$\n",
    "\n",
    "Thus, to move a marginal distribution forward one unit of time, we postmultiply by $ P $.\n",
    "\n",
    "By postmultiplying $ m $ times, we move a marginal distribution forward $ m $ steps into the future.\n",
    "\n",
    "Hence, iterating on [(1)](#equation-fin-mc-fr), the expression $ \\psi_{t+m} = \\psi_t P^m $ is also valid — here $ P^m $ is the $ m $-th power of $ P $.\n",
    "\n",
    "As a special case, we see that if $ \\psi_0 $ is the initial distribution from\n",
    "which $ s_0 $ is drawn, then $ \\psi_0 P^m $ is the distribution of\n",
    "$ s_m $.\n",
    "\n",
    "This is very important, so let’s repeat it\n",
    "\n",
    "\n",
    "<a id='equation-mdfmc'></a>\n",
    "$$\n",
    "X_0 \\sim \\psi_0 \\quad \\implies \\quad X_m \\sim \\psi_0 P^m \\tag{2}\n",
    "$$\n",
    "\n",
    "and, more generally,\n",
    "\n",
    "\n",
    "<a id='equation-mdfmc2'></a>\n",
    "$$\n",
    "X_t \\sim \\psi_t \\quad \\implies \\quad X_{t+m} \\sim \\psi_t P^m \\tag{3}\n",
    "$$\n",
    "\n",
    "\n",
    "<a id='finite-mc-mstp'></a>"
   ]
  },
  {
   "cell_type": "markdown",
   "metadata": {},
   "source": [
    "### **Properties of Marcov Chain**\n",
    "\n",
    "Let $ P $ be a fixed stochastic matrix.\n",
    "\n",
    "#### **Communicate**:  \n",
    "  Two states $ x $ and $ y $ are said to **communicate** with each other if\n",
    "  there exist positive integers $ j $ and $ k $ such that\n",
    "\n",
    "  $$\n",
    "  P^j(x, y) > 0\n",
    "  \\quad \\text{and} \\quad\n",
    "  P^k(y, x) > 0\n",
    "  $$\n",
    "\n",
    "  In view of our discussion above, this means precisely that  \n",
    "  1. state $ x $ can eventually be reached  from state $ y $, and  \n",
    "  1. state $ y $ can eventually  be reached from state $ x $  \n",
    "\n",
    "#### **Irreducible**:  \n",
    "  The stochastic matrix $ P $ is called **irreducible** if all states communicate:   \n",
    "  if $ x $ and $ y $ communicate\n",
    "  $ \\forall (x, y) \\in S \\times S $.\n",
    "\n",
    "- For example, consider the following transition probabilities for wealth of a fictitious set of households\n",
    "\n",
    "  ![https://python.quantecon.org/_static/lecture_specific/finite_markov/mc_irreducibility1.png](https://python.quantecon.org/_static/lecture_specific/finite_markov/mc_irreducibility1.png)\n",
    "\n",
    "  \n",
    "  We can translate this into a stochastic matrix, putting zeros where\n",
    "  there’s no edge between nodes\n",
    "\n",
    "  $$\n",
    "  P :=\n",
    "  \\left(\n",
    "    \\begin{array}{ccc}\n",
    "       0.9 & 0.1 & 0 \\\\\n",
    "      0.4 & 0.4 & 0.2 \\\\\n",
    "      0.1 & 0.1 & 0.8\n",
    "    \\end{array}\n",
    "  \\right)\n",
    "  $$\n",
    "\n",
    "  It’s clear from the graph that this stochastic matrix is irreducible: we can  eventually\n",
    "  reach any state from any other state.\n",
    "\n",
    "  We can also test this using [QuantEcon.py](http://quantecon.org/quantecon-py)’s MarkovChain class"
   ]
  },
  {
   "cell_type": "code",
   "execution_count": 179,
   "metadata": {},
   "outputs": [
    {
     "name": "stdout",
     "output_type": "stream",
     "text": [
      "True\n",
      "[array(['poor', 'middle', 'rich'], dtype='<U6')]\n"
     ]
    }
   ],
   "source": [
    "P = [[0.9, 0.1, 0.0],\n",
    "     [0.4, 0.4, 0.2],\n",
    "     [0.1, 0.1, 0.8]]\n",
    "\n",
    "mc = qe.MarkovChain(P, ('poor', 'middle', 'rich'))\n",
    "print(mc.is_irreducible)\n",
    "print(mc.communication_classes)"
   ]
  },
  {
   "cell_type": "markdown",
   "metadata": {},
   "source": [
    "- **Aperiodicity**:  \n",
    "    A Markov chain is called **periodic** if it cycles in a predictable way, and **aperiodic** otherwise.  \n",
    "    Formally, the **period** of a state $ x $ is the **largest common divisor** of a set of integers\n",
    "    $$\n",
    "    D(x) := \\{j \\geq 1 : P^j(x, x) > 0\\}\n",
    "    $$\n",
    "    A stochastic matrix is called **aperiodic** if the period of every state is 1, and **periodic** otherwise.\n",
    "\n",
    "\n",
    "\n",
    "    For example, the stochastic matrix associated with the transition probabilities below is periodic because, for example, state $ a $ has period 2\n",
    "\n",
    "    ![https://python.quantecon.org/_static/lecture_specific/finite_markov/mc_aperiodicity2.png](https://python.quantecon.org/_static/lecture_specific/finite_markov/mc_aperiodicity2.png)\n",
    "\n",
    "    We can confirm that the stochastic matrix is periodic:"
   ]
  },
  {
   "cell_type": "code",
   "execution_count": 180,
   "metadata": {},
   "outputs": [
    {
     "name": "stdout",
     "output_type": "stream",
     "text": [
      "2\n",
      "False\n"
     ]
    }
   ],
   "source": [
    "P = [[0.0, 1.0, 0.0, 0.0],\n",
    "     [0.5, 0.0, 0.5, 0.0],\n",
    "     [0.0, 0.5, 0.0, 0.5],\n",
    "     [0.0, 0.0, 1.0, 0.0]]\n",
    "\n",
    "mc = qe.MarkovChain(P)\n",
    "print(mc.period)\n",
    "print(mc.is_aperiodic)"
   ]
  },
  {
   "cell_type": "markdown",
   "metadata": {},
   "source": [
    "## **Stationary Distribution of Marcov Chain**\n",
    "\n",
    "### **Stationary**:  \n",
    "A marginal distribution $ \\psi^* $ on $ S $ is called **stationary** for $ P $  \n",
    "    If $ \\psi^* = \\psi^* P $."
   ]
  },
  {
   "cell_type": "markdown",
   "metadata": {},
   "source": [
    "### **Theorem 1.**  \n",
    "If state space $\\mathbb{S}$ is finite, every stochastic matrix $ P $ has at least one stationary distribution.  \n",
    "    (Note that the distribution may not unique)\n"
   ]
  },
  {
   "cell_type": "markdown",
   "metadata": {},
   "source": [
    "### **Theorem 2.**  \n",
    "If $ P $ is **aperiodic and irreducible**, then  \n",
    "    1. $ P $ has exactly one stationary distribution $ \\psi^* $.  \n",
    "    1. For any initial marginal distribution $ \\psi_0 $, we have $ \\| \\psi_0 P^t - \\psi^* \\| \\to 0 $ as $ t \\to \\infty $.  \n",
    "\n",
    "- Note that:\n",
    "    1. A stochastic matrix that satisfies the conditions of the theorem is called **uniformly ergodic**.\n",
    "    2. A **sufficient condition for aperiodicity and irreducibility** is that  \n",
    "        **every element of $ P $ is strictly positive**.\n"
   ]
  },
  {
   "cell_type": "markdown",
   "metadata": {},
   "source": [
    "### **Calculating Stationary Distributions**\n",
    "\n",
    "\n",
    "A particular Markov matrix $ P $ can have many stationary distributions.\n",
    "\n",
    "That is, there can be many row vectors $ \\psi $ such that $ \\psi = \\psi P $.\n",
    "\n",
    "- If $ P $ has two distinct stationary distributions $ \\psi_1,\n",
    "    \\psi_2 $ then it has infinitely many, since in this case, as you can verify,  for any $ \\lambda \\in [0, 1] $\n",
    "\n",
    "    $$\n",
    "    \\psi_3 := \\lambda \\psi_1 + (1 - \\lambda) \\psi_2\n",
    "    $$\n",
    "\n",
    "    is a stationary distribution for $ P $.\n",
    "\n",
    "\n",
    "- **If only one stationary distribution exists**, we can get stationary distribution by\n",
    "\n",
    "    $$\n",
    "    \\psi (I_n - P) = 0 \\tag{4}\n",
    "    $$\n",
    "\n",
    "    for $ \\psi $, where $ I_n $ is the $ n \\times n $ identity.\n",
    "\n",
    "    But the zero vector solves system [(4)](#equation-eq-eqpsifixed),  so we must proceed cautiously.\n",
    "\n",
    "\n",
    "- **Restrict $ \\psi $ to  a probability distribution**  \n",
    "\n",
    "    To achieve this, one option is to regard solving system [(4)](#equation-eq-eqpsifixed)  as an eigenvector problem:  \n",
    "    A vector $ \\psi $ such that $ \\psi = \\psi P $ is a left eigenvector associated with the unit eigenvalue $ \\lambda = 1 $.\n",
    "\n",
    "    Algorithm specialized for stochastic matrices is implemented in `QuantEcon`."
   ]
  },
  {
   "cell_type": "code",
   "execution_count": 181,
   "metadata": {},
   "outputs": [
    {
     "name": "stdout",
     "output_type": "stream",
     "text": [
      "The stationary distribution is:\n"
     ]
    },
    {
     "data": {
      "text/plain": [
       "array([[0.25, 0.75]])"
      ]
     },
     "execution_count": 181,
     "metadata": {},
     "output_type": "execute_result"
    }
   ],
   "source": [
    "P = [[0.4, 0.6],\n",
    "     [0.2, 0.8]]\n",
    "\n",
    "mc = qe.MarkovChain(P)\n",
    "print('The stationary distribution is:')\n",
    "mc.stationary_distributions"
   ]
  },
  {
   "cell_type": "markdown",
   "metadata": {},
   "source": [
    "### **Convergence**\n",
    "\n",
    "**Theorem 2** tells us that the marginal distribution of $ s_t $ converges to the stationary distribution regardless of where we begin.\n",
    "\n",
    "This adds considerable authority to our interpretation of $ \\psi^* $ as a stochastic steady state."
   ]
  },
  {
   "cell_type": "code",
   "execution_count": 182,
   "metadata": {},
   "outputs": [
    {
     "data": {
      "image/png": "[encoded data removed]",
      "text/plain": [
       "<Figure size 300x200 with 1 Axes>"
      ]
     },
     "metadata": {},
     "output_type": "display_data"
    }
   ],
   "source": [
    "P = ((0.971, 0.029, 0.000),\n",
    "     (0.145, 0.778, 0.077),\n",
    "     (0.000, 0.508, 0.492))\n",
    "P = np.array(P)\n",
    "ψ = (0.0, 0.2, 0.8)        # Initial condition\n",
    "\n",
    "# multiple probability matrix for many times\n",
    "x_vals, y_vals, z_vals = [], [], []\n",
    "for t in range(20):\n",
    "    x_vals.append(ψ[0])\n",
    "    y_vals.append(ψ[1])\n",
    "    z_vals.append(ψ[2])\n",
    "    ψ = ψ @ P\n",
    "\n",
    "# Calculate stationary distribution\n",
    "mc = qe.MarkovChain(P)\n",
    "ψ_star = mc.stationary_distributions[0]\n",
    "\n",
    "\n",
    "# Draw the figure\n",
    "fig = plt.figure(figsize=(3, 2))\n",
    "ax = fig.add_subplot(111, projection='3d')\n",
    "ax.set(xlim=(0, 1), ylim=(0, 1), zlim=(0, 1),\n",
    "       xticks=(0.25, 0.5, 0.75),\n",
    "       yticks=(0.25, 0.5, 0.75),\n",
    "       zticks=(0.25, 0.5, 0.75))\n",
    "ax.scatter(x_vals, y_vals, z_vals, c='r', s=60)\n",
    "ax.view_init(30, 210)\n",
    "\n",
    "ax.scatter(ψ_star[0], ψ_star[1], ψ_star[2], c='k', s=60)\n",
    "plt.show()"
   ]
  },
  {
   "cell_type": "markdown",
   "metadata": {},
   "source": [
    "Here  \n",
    "    - The highest red dot is an arbitrarily chosen initial marginal probability distribution  $ \\psi $, represented as a vector in $ \\mathbb R^3 $.  \n",
    "    - The other red dots are the marginal distributions $ \\psi P^t $ for $ t = 1, 2, \\ldots $.  \n",
    "    - The black dot is $ \\psi^* $."
   ]
  },
  {
   "cell_type": "markdown",
   "metadata": {},
   "source": [
    "### **Ergodicity**\n",
    "\n",
    "Under **irreducibility**, yet another important result obtains:\n",
    "\n",
    "\n",
    "<a id='equation-llnfmc0'></a>\n",
    "$$\n",
    "\\forall x \\in \\mathbb{S}, \\quad\n",
    "\\frac{1}{m} \\sum_{t = 1}^m \\mathbf{1}\\{s_t = x\\}  \\to \\psi^*(x)\n",
    "    \\quad \\text{as } m \\to \\infty \\tag{5}\n",
    "$$\n",
    "\n",
    "Here\n",
    "\n",
    "- $ \\mathbf{1}\\{s_t = x\\} = 1 $ if $ s_t = x $ and zero otherwise  \n",
    "- convergence is with probability one  \n",
    "- the result does not depend on the marginal distribution  of $ s_0 $  \n",
    "\n",
    "\n",
    "The result tells us that the fraction of time the chain spends at state $ x $ converges to $ \\psi^*(x) $ as time goes to infinity.\n",
    "\n",
    "This gives us another way to interpret the stationary distribution."
   ]
  },
  {
   "cell_type": "markdown",
   "metadata": {},
   "source": [
    "## **Expectations**\n",
    "\n",
    "### **Unconditional expectation**\n",
    "Expectations of functions of $ s_t $ is in the form\n",
    "\n",
    "<a id='equation-mc-une'></a>\n",
    "$$\n",
    "\\mathbb E [ h(s_t) ] \\tag{6}\n",
    "$$\n",
    "\n",
    "where\n",
    "\n",
    "- $ \\{s_t\\} $ is a Markov chain generated by $ n \\times n $ stochastic matrix $ P $  \n",
    "- $ h $ is a given function, which, in terms of matrix\n",
    "  algebra, we’ll think of as the column vector  \n",
    "$$\n",
    "h\n",
    "= \\left(\n",
    "\\begin{array}{c}\n",
    "    h(x_1) \\\\\n",
    "    \\vdots \\\\\n",
    "    h(x_n)\n",
    "\\end{array}\n",
    "  \\right)\n",
    "$$\n",
    "\n",
    "\n",
    "\n",
    "We just sum over the marginal  distribution  of $ s_t $ to get\n",
    "\n",
    "$$\n",
    "\\mathbb E [ h(s_t) ]\n",
    "= \\sum_{x \\in \\mathbb{S}} (\\psi_0 P^t)(x) h(x)\n",
    "$$\n",
    "\n",
    "Here $ \\psi_0 $ is the distribution of $ s_0 $.\n",
    "\n",
    "**Since $ \\psi_0 $ and hence $ \\psi_0 P^t $ are row vectors**, we can also\n",
    "write this as\n",
    "\n",
    "$$\n",
    "\\mathbb E [ h(s_t) ]\n",
    "=  \\psi_0 P^t h\n",
    "$$"
   ]
  },
  {
   "cell_type": "markdown",
   "metadata": {},
   "source": [
    "### **Conditional Expectation**\n",
    "\n",
    "<a id='equation-mc-cce'></a>\n",
    "$$\n",
    "\\mathbb E [ h(s_{t + k})  \\mid s_t = x] \\tag{7}\n",
    "$$\n",
    "\n",
    "where\n",
    "\n",
    "- $ \\{s_t\\} $ is a Markov chain generated by $ n \\times n $ stochastic matrix $ P $  \n",
    "- $ h $ is a given function, which, in terms of matrix\n",
    "  algebra, we’ll think of as the column vector  \n",
    "\n",
    "\n",
    "$$\n",
    "h\n",
    "= \\left(\n",
    "\\begin{array}{c}\n",
    "    h(x_1) \\\\\n",
    "    \\vdots \\\\\n",
    "    h(x_n)\n",
    "\\end{array}\n",
    "  \\right)\n",
    "$$\n",
    "\n",
    "\n",
    "\n",
    "For the conditional expectation [(7)](#equation-mc-cce), we need to sum over\n",
    "the conditional distribution of $ s_{t + k} $ given $ s_t = x $.\n",
    "\n",
    "We already know that this is $ P^k(x, \\cdot) $, so\n",
    "\n",
    "\n",
    "<a id='equation-mc-cce2'></a>\n",
    "$$\n",
    "\\mathbb E [ h(s_{t + k})  \\mid s_t = x]\n",
    "= (P^k h)(x) \\tag{19.11}\n",
    "$$\n",
    "\n",
    "The vector $ P^k h $ stores the conditional expectation $ \\mathbb E [ h(s_{t + k})  \\mid s_t = x] $ over all $ x $."
   ]
  },
  {
   "cell_type": "markdown",
   "metadata": {},
   "source": [
    "## **Tauchen's Method**\n",
    "\n",
    "In numerical work, it is necessary to replace a continuous model with a discrete one.\n",
    "\n",
    "Markov chains are routinely generated as discrete approximations to AR(1) processes of the form\n",
    "\n",
    "$$\n",
    "y_{t+1} = \\rho y_t + (1-\\rho)\\mu + u_{t+1}\n",
    "$$\n",
    "\n",
    "Here $ {u_t} $ is assumed to be IID and $ N(0, \\sigma_u^2) $. $\\mu$ is a constant.\n",
    "\n",
    "The expectation value of $y_t$ is\n",
    "$$\n",
    "\\mathbb{E}(y_{t+1}) = \\rho \\mathbb{E}(y_t) + (1-\\rho)\\mu \\\\\n",
    "\\mathbb{E}(y_{t+1}) = \\mathbb{E}(y_t) \\\\\n",
    "\\mathbb{E}(y_t) = \\mu\n",
    "$$\n",
    "\n",
    "The variance of the stationary probability distribution of $ \\{ y_t \\} $ is\n",
    "\n",
    "$$\n",
    "\\mathbb{Var}(y_{t+1}) = \\rho^2 \\mathbb{Var}(y_{t}) + \\mathbb{Var}(u_{t+1}) \\\\\n",
    "\\sigma_y^2 := \\frac{\\sigma_u^2}{1-\\rho^2}\n",
    "$$\n",
    "\n",
    "**Tauchen’s method** (Tauchen, 1986) is the most common method for approximating this continuous state process with a finite state Markov chain.\n",
    "\n",
    "1. As a first step, we choose  \n",
    "- $ n $, the number of states for the discrete approximation  \n",
    "- $ m $, an integer that parameterizes the width of the state space  \n",
    "\n",
    "\n",
    "2. Next, we create a state space $ \\{x_0, \\ldots, x_{n-1}\\} \\subset \\mathbb R $ and a stochastic $ n \\times n $ matrix $ P $ such that\n",
    "- $ x_0 = - m \\, \\sigma_y $  \n",
    "- $ x_{n-1} = m \\, \\sigma_y $  \n",
    "- $ x_{i+1} = x_i + s $ where $ s = (x_{n-1} - x_0) / (n - 1) $  \n",
    "\n",
    "\n",
    "3. Let $ F $ be the cumulative distribution function of the normal distribution $ N(0, \\sigma_u^2) $.\n",
    "\n",
    "  The values $ P(x_i, x_j) $ are computed to approximate the AR(1) process — omitting the derivation, the rules are as follows:\n",
    "\n",
    "  If $ j = 0 $, then set  \n",
    "    $$\n",
    "   P(x_i, x_j) = P(x_i, x_0) = F(x_0-\\rho x_i + s/2)\n",
    "    $$\n",
    "  If $ j = n-1 $, then set  \n",
    "    $$\n",
    "    P(x_i, x_j) = P(x_i, x_{n-1}) = 1 - F(x_{n-1} - \\rho x_i - s/2)\n",
    "    $$\n",
    "  Otherwise, set  \n",
    "    $$\n",
    "    P(x_i, x_j) = F(x_j - \\rho x_i + s/2) - F(x_j - \\rho x_i - s/2)\n",
    "    $$\n",
    "\n",
    "\n",
    "The exercise is to write a function `discretization_AR1(rho, mu, sigma_u, m=3, n=7)` that returns\n",
    "$ \\{x_0, \\ldots, x_{n-1}\\} \\subset \\mathbb R $ and $ n \\times n $ matrix\n",
    "$ P $ as described above.\n",
    "\n",
    "- Even better, write a function that returns an instance of [QuantEcon.py’s](http://quantecon.org/quantecon-py) MarkovChain class.  "
   ]
  },
  {
   "cell_type": "code",
   "execution_count": 183,
   "metadata": {},
   "outputs": [],
   "source": [
    "def discretization_AR1(ρ, μ, σ, N, d=3):\n",
    "    \"\"\"\n",
    "    Tauchen Method\n",
    "    Discretizes an AR(1) process with Gaussian shocks.\n",
    "\n",
    "    Parameters:\n",
    "    rho   : persistence parameter\n",
    "    mu    : mean of the stochastic process\n",
    "    sigma : standard deviation of the shocks (epsilon ~ N(0, sigma^2))\n",
    "    N     : size of the discretized state space\n",
    "    d     : deviation factor for state space bounds\n",
    "\n",
    "    Returns:\n",
    "    PI    : state transition matrix\n",
    "    a_grid: grid of the state space\n",
    "    \"\"\"\n",
    "    # Standard deviation of the stationary distribution\n",
    "    σ_a = np.sqrt(σ**2 / (1 - ρ**2))\n",
    "    \n",
    "    # Define the boundaries of the state space\n",
    "    a_min = μ - d * σ_a\n",
    "    a_max = μ + d * σ_a\n",
    "    \n",
    "    # Discretized state space\n",
    "    a_grid = np.linspace(a_min, a_max, N)\n",
    "    \n",
    "    # Prepare for probability computation\n",
    "    m_list = (a_grid[:-1] + a_grid[1:]) / 2  # Midpoints\n",
    "    \n",
    "    # Initialize transition probability matrix\n",
    "    PI = np.zeros((N, N))\n",
    "    \n",
    "    # Compute transition probabilities\n",
    "    for i in range(N):\n",
    "        # Probability for the first state\n",
    "        PI[i, 0] = norm.cdf((m_list[0] - (1 - ρ) * μ - ρ * a_grid[i]) / σ)\n",
    "        \n",
    "        # Probability for the last state\n",
    "        PI[i, N-1] = 1 - norm.cdf((m_list[-1] - (1 - ρ) * μ - ρ * a_grid[i]) / σ)\n",
    "        \n",
    "        # Probabilities for intermediate states\n",
    "        for k in range(1, N-1):\n",
    "            PI[i, k] = (norm.cdf((m_list[k] - (1 - ρ) * μ - ρ * a_grid[i]) / σ) -\n",
    "                        norm.cdf((m_list[k-1] - (1 - ρ) * μ - ρ * a_grid[i]) / σ))\n",
    "    \n",
    "    return PI, a_grid"
   ]
  },
  {
   "cell_type": "code",
   "execution_count": 184,
   "metadata": {},
   "outputs": [
    {
     "data": {
      "image/png": "[encoded data removed]",
      "text/plain": [
       "<Figure size 300x200 with 1 Axes>"
      ]
     },
     "metadata": {},
     "output_type": "display_data"
    }
   ],
   "source": [
    "# apply the function\n",
    "P,a_grid = discretization_AR1(ρ=0.9, μ=0, σ=2, N=8, d=3)\n",
    "\n",
    "mc = qe.MarkovChain(P, state_values=a_grid)\n",
    "\n",
    "X = mc.simulate(ts_length=100, init=a_grid[4])\n",
    "\n",
    "# Draw the graph\n",
    "plt.figure(figsize=(3, 2))\n",
    "plt.plot(X, marker='o', linestyle='-', color='b')\n",
    "plt.title(\"Simulation of a AR(1)\")\n",
    "plt.xlabel(\"Period\")\n",
    "plt.ylabel(\"State\")\n",
    "plt.grid(True)\n",
    "plt.show()"
   ]
  },
  {
   "cell_type": "markdown",
   "metadata": {},
   "source": [
    "Now, let's try the package of `quantecon`"
   ]
  },
  {
   "cell_type": "code",
   "execution_count": 185,
   "metadata": {},
   "outputs": [
    {
     "data": {
      "image/png": "[encoded data removed]",
      "text/plain": [
       "<Figure size 300x200 with 1 Axes>"
      ]
     },
     "metadata": {},
     "output_type": "display_data"
    }
   ],
   "source": [
    "mc2 = qe.markov.approximation.tauchen(n=8, rho=0.9, sigma=2, mu=0.0, n_std=3)\n",
    "grid=mc2.state_values\n",
    "\n",
    "X2 = mc2.simulate(ts_length=100, init=grid[4])\n",
    "\n",
    "# Draw the graph\n",
    "plt.figure(figsize=(3, 2))\n",
    "plt.plot(X2, marker='o', linestyle='-', color='b')\n",
    "plt.title(\"Simulation of a AR(1)\")\n",
    "plt.xlabel(\"Period\")\n",
    "plt.ylabel(\"State\")\n",
    "plt.grid(True)\n",
    "plt.show()"
   ]
  },
  {
   "cell_type": "markdown",
   "metadata": {},
   "source": [
    "## Attributes of Marcov Chain in `quantecon`\n",
    "see [quantecon.Marcov_Chain](https://quanteconpy.readthedocs.io/en/latest/markov/core.html#quantecon.markov.core.MarkovChain) for detail."
   ]
  },
  {
   "cell_type": "code",
   "execution_count": 186,
   "metadata": {},
   "outputs": [
    {
     "name": "stdout",
     "output_type": "stream",
     "text": [
      "\n",
      " Probability Matrix:\n",
      "[[0.4 0.6]\n",
      " [0.2 0.8]]\n",
      "\n",
      " Stationary Distribution:\n",
      "[[0.25 0.75]]\n",
      "\n",
      " State Values:\n",
      "['a' 'b']\n",
      "\n",
      " Simulation:\n",
      "['a' 'a' 'a' 'a' 'b']\n",
      "\n",
      " Simulation for indices:\n",
      "[0 1 1 1 0]\n"
     ]
    }
   ],
   "source": [
    "P = [[0.4, 0.6],\n",
    "     [0.2, 0.8]]\n",
    "\n",
    "mc = qe.MarkovChain(P, state_values=('a','b'))\n",
    "\n",
    "print('\\n Probability Matrix:')\n",
    "print(mc.P)\n",
    "\n",
    "print('\\n Stationary Distribution:')\n",
    "print(mc.stationary_distributions)\n",
    "\n",
    "print('\\n State Values:')\n",
    "print(mc.state_values)\n",
    "\n",
    "print('\\n Simulation:')\n",
    "print(mc.simulate(ts_length=5, init='a'))\n",
    "\n",
    "print('\\n Simulation for indices:')\n",
    "print(mc.simulate_indices(ts_length=5, init=0))\n"
   ]
  }
 ],
 "metadata": {
  "kernelspec": {
   "display_name": "base",
   "language": "python",
   "name": "python3"
  },
  "language_info": {
   "codemirror_mode": {
    "name": "ipython",
    "version": 3
   },
   "file_extension": ".py",
   "mimetype": "text/x-python",
   "name": "python",
   "nbconvert_exporter": "python",
   "pygments_lexer": "ipython3",
   "version": "3.12.3"
  }
 },
 "nbformat": 4,
 "nbformat_minor": 2
}
