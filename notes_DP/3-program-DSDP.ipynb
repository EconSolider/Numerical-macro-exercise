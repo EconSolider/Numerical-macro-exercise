{
 "cells": [
  {
   "cell_type": "code",
   "execution_count": 2,
   "metadata": {},
   "outputs": [],
   "source": [
    "import numpy as np\n",
    "import matplotlib.pyplot as plt\n",
    "plt.rcParams[\"figure.figsize\"] = (3, 2)  #set default figure size\n",
    "\n",
    "import quantecon as qe"
   ]
  },
  {
   "cell_type": "markdown",
   "metadata": {},
   "source": [
    "## Contents\n",
    "- [Introduction](#introduction)\n",
    "- [Example and DSDP Representation](#example-and-dsdp-representation)\n",
    "- [Value Iteration](#value-iteration)\n",
    "    - [Program by Hand](#program-by-hand)\n",
    "    - [Simulation by policy function](#2-monte-carlo-simulation-of-states-actions-and-rewards)\n",
    "    - [Program with quantecon](#program-of-quantecon)\n",
    "- [Policy Iteration](#policy-iteration)\n",
    "    - [Program by hand](#program-by-hand)\n",
    "    - [Program with quantecon](#program-with-quantecon)"
   ]
  },
  {
   "cell_type": "markdown",
   "metadata": {},
   "source": [
    "## Introduction\n",
    "\n",
    "In the previous lecture, we studied the structure of Dynamic Stochastic Discrete Programming (DSDP) and the properties of the value function. Additionally, we briefly introduced the principles of two algorithms, **Value Iteration** and **Policy Iteration**, based on the characteristics of the value function.\n",
    "\n",
    "To further deepen our understanding of these algorithms, in this lecture, we will practice both algorithms using a more generalized model than the McCall search model.\n",
    "\n",
    "For each algorithm, we will first implement it through manual programming and then apply the `quantecon` package to achieve the same. \n",
    "\n",
    "The reason for learning the `quantecon` package is that it leverages `numba` to enhance computational speed, making it more suitable for larger and more complex models.\n"
   ]
  },
  {
   "cell_type": "markdown",
   "metadata": {},
   "source": [
    "## Example and DSDP Representation\n",
    "\n",
    "Unlike the simple setup of the McCall model, in our example, the state transition probability depends on both the individual's current state and their action.\n",
    "\n",
    "In our model, the individual:\n",
    "- Has two **states** $s \\in S$:  \n",
    "    $$\n",
    "    S := \\{0, 1\\}, \\\\\n",
    "    n := \\#(S) = 2\n",
    "    $$\n",
    "\n",
    "- We assume that in any state, there are two **feasible actions** $A(s)$:  \n",
    "    $$\n",
    "    A(s=0) := \\{0, 1\\} \\\\\n",
    "    A(s=1) := \\{0, 1\\} \\\\\n",
    "    m := \\#(A(s)) = 2\n",
    "    $$\n",
    "\n",
    "- Therefore, the set of any feasible state-action pairs $SA$ contains $n \\times m$ elements:  \n",
    "    $$\n",
    "    SA := \\{(s, a) \\mid s \\in S, a \\in A(s)\\} \\\\\n",
    "    = \\{(0, 0), (1, 0), (0, 1), (1, 1)\\}\n",
    "    $$\n",
    "\n",
    "- The **reward array** $Ra$ is defined by a $n \\times m$ array, representing the immediate reward for choosing action $a$ in state $s$:  \n",
    "    $$\n",
    "    Ra := \n",
    "    \\begin{pmatrix}\n",
    "    1 & 0 \\\\ \n",
    "    0 & 1.1\n",
    "    \\end{pmatrix}\n",
    "    $$\n",
    "    Here, each row represents a state $s$, and each column represents an action $a$.  \n",
    "    Therefore, each element of the reward array is a projection of the reward function $R: SA \\to \\mathbb{R}$:\n",
    "    $$\n",
    "    Ra(i,j) := R(s=i, a=j)\n",
    "    $$\n",
    "\n",
    "- The **transition probability array** $Qa$ is a $n \\times m \\times n$ array.  \n",
    "    - The first dimension represents the current state $s \\in S$.\n",
    "    - The second dimension represents an action $a \\in A(s)$.\n",
    "    - The third dimension represents the possible next state $s' \\in S$.  \n",
    "    Thus, each element of the transition probability array is a projection of the transition probability $Q: SA \\to \\Delta(S)$:\n",
    "    $$\n",
    "    Qa(i,j,k) := Q(s=i, a=j, s'=k)\n",
    "    $$  \n",
    "    - Since $Q$ is a probability matrix, $Qa$ must satisfy the following two conditions:  \n",
    "        $$ \n",
    "        \\sum_{s' \\in S} Qa(s,a,s') = 1 \\\\\n",
    "        Qa(s,a,s') > 0, \\forall s, a, s'\n",
    "        $$\n",
    "\n",
    "> **Note**\n",
    ">\n",
    "> - We can embed feasibility constraints into $R$ by setting $R[s, a] = -\\infty$ for $a \\notin A(s)$.  \n",
    "> - Probability distributions for $(s, a)$ with $a \\notin A(s)$ can be arbitrary.\n"
   ]
  },
  {
   "cell_type": "markdown",
   "metadata": {},
   "source": [
    "Next, we will encapsulate these settings into a class. \n",
    "\n",
    "(We use a class structure to facilitate the use of the `Quantecon` package.)"
   ]
  },
  {
   "cell_type": "code",
   "execution_count": 3,
   "metadata": {},
   "outputs": [],
   "source": [
    "class Example:\n",
    "    def __init__(self,n=2,m=2,β=0.9):\n",
    "        \"\"\"\n",
    "        Set up R, Q and β, the three elements that define an instance of\n",
    "        the DiscreteDP class.  \n",
    "\n",
    "        n (int): Number of elements in state set, S  \n",
    "        m (int): Number of elements in feasible action set, A  \n",
    "        β (float): discount factor  \n",
    "        \"\"\"\n",
    "        self.n, self.β, self.m = n, β, m\n",
    "        self.R = np.zeros((n,m))\n",
    "        self.Q = np.zeros((n,m,n))\n",
    "    \n",
    "    def populate_R(self):\n",
    "        \"\"\"\n",
    "        Populate the R matrix, with R[s, a] = -np.inf for infeasible\n",
    "        state-action pairs.\n",
    "        \"\"\"\n",
    "        self.R = np.array([\n",
    "            [1, 0],  # in state 0, reward of choose action 0 and 1\n",
    "            [0, 1.1],  # in state 1, reward of choose action 0 and 1\n",
    "            ])\n",
    "    \n",
    "    def populate_Q(self):\n",
    "        \"\"\"\n",
    "        Populate the Q matrix\n",
    "        \"\"\"\n",
    "        self.Q = np.array([\n",
    "            [[0.7, 0.3], [0.6, 0.4]],  # in state 0, after choose action 0,1, transition prob to state 0,1.\n",
    "            [[0.4, 0.6], [0.3, 0.7]],  # in state 1, after choose action 0,1, transition prob to state 0,1.\n",
    "            ])\n",
    "    \n",
    "    def state_action_values(self,s,V):\n",
    "        \"\"\"\n",
    "        The values of state-action pairs, given arbitrary value function.\n",
    "        (Function for value iteration)\n",
    "        (Not necessary for quantecon)\n",
    "        \"\"\"\n",
    "        β, R, Q, n, m = self.β, self.R, self.Q, self.n, self.m\n",
    "        state_action_value = np.zeros(m)\n",
    "        for a in range(m):\n",
    "            state_action_value[a] = R[s,a] + β * np.sum(Q[s, a, :] * V)\n",
    "        return state_action_value\n",
    "    \n",
    "    def policy_evaluation(self, policy, V, ε=1e-6, max_iter=500):\n",
    "        \"\"\"\n",
    "        Evaluate the value of a given policy\n",
    "        (Function for policy iteration)\n",
    "        (Not necessary for quantecon)\n",
    "        \"\"\"\n",
    "        β, R, Q, n, m = self.β, self.R, self.Q, self.n, self.m\n",
    "        # Initialize the iteration\n",
    "        ii=0\n",
    "        dif = 10\n",
    "        V_next = np.zeros_like(V)\n",
    "        \n",
    "        while ii<max_iter and dif>ε:\n",
    "            for s in range(n):\n",
    "                a=policy[s]\n",
    "                V[s] = R[s, a] + β * np.sum(Q[s, a, :] * V)\n",
    "            \n",
    "            dif=max(abs(V-V_next))\n",
    "            V_next[:]=V\n",
    "            ii += 1\n",
    "        \n",
    "        return V"
   ]
  },
  {
   "cell_type": "markdown",
   "metadata": {},
   "source": [
    "Let’s run this code and create an instance of `Example`."
   ]
  },
  {
   "cell_type": "code",
   "execution_count": 4,
   "metadata": {},
   "outputs": [
    {
     "name": "stdout",
     "output_type": "stream",
     "text": [
      "The discount factor is: \n",
      " 0.9\n",
      "The reward array is: \n",
      " [[1.  0. ]\n",
      " [0.  1.1]]\n",
      "The transition probabiliry array is: \n",
      " [[[0.7 0.3]\n",
      "  [0.6 0.4]]\n",
      "\n",
      " [[0.4 0.6]\n",
      "  [0.3 0.7]]]\n"
     ]
    }
   ],
   "source": [
    "# Initialize the model\n",
    "ex = Example()\n",
    "ex.populate_R()\n",
    "ex.populate_Q()\n",
    "\n",
    "print(f'The discount factor is: \\n {ex.β}')\n",
    "print(f'The reward array is: \\n {ex.R}')\n",
    "print(f'The transition probabiliry array is: \\n {ex.Q}')"
   ]
  },
  {
   "cell_type": "markdown",
   "metadata": {},
   "source": [
    "## Value Iteration\n",
    "\n",
    "### Algorithm:  \n",
    "1. Choose any $ v^0 \\in \\mathbb{R}^n $, and specify $ \\varepsilon > 0 $; set $ i = 0 $.  \n",
    "1. Compute $ v^{i+1} = T v^i $.  \n",
    "1. If $ \\lVert v^{i+1} - v^i\\rVert <  [(1 - \\beta) / (2\\beta)] \\varepsilon $,\n",
    "  then go to step 4; otherwise, set $ i = i + 1 $ and go to step 2.  \n",
    "1. Compute a $ v^{i+1} $-greedy policy $ \\sigma $, and return $ v^{i+1} $ and $ \\sigma $.  \n"
   ]
  },
  {
   "cell_type": "markdown",
   "metadata": {},
   "source": [
    "### Program by Hand\n",
    "\n",
    "- First, we will solve this optimization problem using a custom value function iteration function to obtain the optimal value function $v^*$ and the policy function $\\sigma: S \\to A$.\n",
    "- Second, we will perform a **Monte Carlo simulation** on the model to observe how states and actions change within the transition matrix.\n",
    "- Finally, by extending the simulation over a long period, we can derive the **stationary distribution of the states**.\n"
   ]
  },
  {
   "cell_type": "markdown",
   "metadata": {},
   "source": [
    "#### 1. Value function iteration"
   ]
  },
  {
   "cell_type": "code",
   "execution_count": 5,
   "metadata": {},
   "outputs": [],
   "source": [
    "def value_iteration(ex,max_iter=500,ε=1e-5,show_converge=True):\n",
    "\n",
    "    # Initialize value function\n",
    "    V = np.zeros(ex.n)+0.1\n",
    "    V_next = np.zeros_like(V)\n",
    "    \n",
    "    # Initialize iteration\n",
    "    policy = np.zeros(ex.n, dtype=int)\n",
    "    dif=20\n",
    "    iter=0\n",
    "\n",
    "    # Iteration\n",
    "    while iter<max_iter and dif>ε:\n",
    "        \n",
    "        for j in range(ex.n):\n",
    "            V_next[j] = max(ex.state_action_values(j,V))\n",
    "            policy[j] = np.argmax(ex.state_action_values(j,V))\n",
    "        \n",
    "        dif = np.max(np.abs(V-V_next))\n",
    "        iter += 1\n",
    "        V[:]=V_next\n",
    "        \n",
    "        if show_converge==True:\n",
    "            if iter%40 == 0 or dif < 1e-5:\n",
    "                print(f'iteration: {iter}, error: {dif}')\n",
    "            if dif < 1e-5:\n",
    "                print('value function converged successfully')\n",
    "    \n",
    "    return V,policy"
   ]
  },
  {
   "cell_type": "markdown",
   "metadata": {},
   "source": [
    "Now, let's try running this program:"
   ]
  },
  {
   "cell_type": "code",
   "execution_count": 6,
   "metadata": {},
   "outputs": [
    {
     "name": "stdout",
     "output_type": "stream",
     "text": [
      "iteration: 40, error: 0.01708013139898945\n",
      "iteration: 80, error: 0.00025245942283369516\n",
      "iteration: 111, error: 9.631842617707775e-06\n",
      "value function converged successfully\n"
     ]
    },
    {
     "data": {
      "image/png": "[encoded data removed]",
      "text/plain": [
       "<Figure size 500x200 with 2 Axes>"
      ]
     },
     "metadata": {},
     "output_type": "display_data"
    }
   ],
   "source": [
    "# Initialize the model\n",
    "ex = Example()\n",
    "ex.populate_R()\n",
    "ex.populate_Q()\n",
    "\n",
    "# value funciton iteration\n",
    "value_fun,policy_fun=value_iteration(ex)\n",
    "\n",
    "# draw the graph\n",
    "states = np.array([0,1])\n",
    "fig, axs = plt.subplots(1, 2, figsize=(5, 2))\n",
    "\n",
    "axs[0].bar(states, value_fun, label=\"value Function\")\n",
    "axs[0].set_xlabel('states')\n",
    "axs[0].set_xticks([0,1])\n",
    "axs[0].legend()\n",
    "\n",
    "axs[1].bar(states, policy_fun, label=\"Policy Function\")\n",
    "axs[1].set_xlabel('states')\n",
    "axs[1].set_xticks([0,1])\n",
    "axs[1].set_yticks([0,1])\n",
    "axs[1].legend()\n",
    "plt.show()"
   ]
  },
  {
   "cell_type": "markdown",
   "metadata": {},
   "source": [
    "#### 2. Monte Carlo Simulation of States, Actions, and Rewards\n",
    "\n",
    "Through Monte Carlo simulation, we can calculate the changes in states and individual actions from any initial state.  \n",
    "\n",
    "Additionally, by simulating the time series, we can also determine the long-term stationary distribution of the states."
   ]
  },
  {
   "cell_type": "code",
   "execution_count": 7,
   "metadata": {},
   "outputs": [],
   "source": [
    "def montecarlo(ex,T,policy,initial_state=0,seed=1234):\n",
    "    state_sequence = np.zeros(T, dtype=int)\n",
    "    action_sequence = np.zeros(T, dtype=int)\n",
    "    reward_sequence = np.zeros(T)\n",
    "\n",
    "    state_sequence[0] = initial_state\n",
    "    np.random.seed(seed)\n",
    "    \n",
    "    for t in range(T - 1):\n",
    "        current_state = state_sequence[t]\n",
    "        \n",
    "        # decide action by policy function\n",
    "        action = policy[current_state]\n",
    "        action_sequence[t] = action\n",
    "\n",
    "        # calculate reward\n",
    "        reward_sequence[t] = ex.R[current_state, action]\n",
    "\n",
    "        # random choice of next state by state transition probability\n",
    "        next_state = np.random.choice(ex.n, p=ex.Q[current_state, action, :])\n",
    "        state_sequence[t + 1] = next_state\n",
    "    \n",
    "    # Final period action and reward \n",
    "    action_sequence[-1] = policy[state_sequence[-1]]\n",
    "    reward_sequence[-1] = ex.R[state_sequence[-1], action_sequence[-1]]\n",
    "\n",
    "    return state_sequence, action_sequence, reward_sequence"
   ]
  },
  {
   "cell_type": "code",
   "execution_count": 8,
   "metadata": {},
   "outputs": [
    {
     "data": {
      "image/png": "[encoded data removed]",
      "text/plain": [
       "<Figure size 800x200 with 3 Axes>"
      ]
     },
     "metadata": {},
     "output_type": "display_data"
    }
   ],
   "source": [
    "T=200\n",
    "state_sequence, action_sequence, reward_sequence =  montecarlo(ex,T,policy_fun,initial_state=0,seed=1234)\n",
    "\n",
    "# draw the graph\n",
    "time = np.arange(T)\n",
    "fig, axs = plt.subplots(1, 3, figsize=(8, 2))\n",
    "\n",
    "axs[0].plot(time, state_sequence, label=\"state\")\n",
    "axs[0].set_xlabel('Period')\n",
    "axs[0].set_yticks([0,1])\n",
    "axs[0].legend()\n",
    "\n",
    "axs[1].plot(time, action_sequence, label=\"action\")\n",
    "axs[1].set_xlabel('Period')\n",
    "axs[1].set_yticks([0,1])\n",
    "axs[1].legend()\n",
    "\n",
    "\n",
    "axs[2].plot(time, reward_sequence, label=\"reward\")\n",
    "axs[2].set_xlabel('Period')\n",
    "axs[2].set_yticks([1, 1.1])\n",
    "axs[2].legend()\n",
    "plt.show()"
   ]
  },
  {
   "cell_type": "code",
   "execution_count": 9,
   "metadata": {},
   "outputs": [
    {
     "data": {
      "image/png": "[encoded data removed]",
      "text/plain": [
       "<Figure size 300x200 with 1 Axes>"
      ]
     },
     "metadata": {},
     "output_type": "display_data"
    }
   ],
   "source": [
    "state_sequence,_,_ =  montecarlo(ex,5000,policy_fun,initial_state=0,seed=1234)\n",
    "\n",
    "unique, counts = np.unique(state_sequence, return_counts=True)\n",
    "plt.bar(unique, counts, color=['blue', 'orange'])\n",
    "plt.title('Histogram of stationary state Distribution')\n",
    "plt.xlabel('Value')\n",
    "plt.ylabel('Frequency')\n",
    "plt.xticks([0, 1])\n",
    "plt.show()"
   ]
  },
  {
   "cell_type": "markdown",
   "metadata": {},
   "source": [
    "### Program with `quantecon`\n",
    "\n",
    "`quantecon` provides us with a high-speed value function iteration tool.  \n",
    "(The prerequisite is that we correctly define the reward function $R$ and the state transition matrix $Q$.)\n"
   ]
  },
  {
   "cell_type": "markdown",
   "metadata": {},
   "source": [
    "Instances of `DiscreteDP` are created using the signature `DiscreteDP(R, Q, β)`.\n",
    "\n",
    "Let’s create an instance using the objects stored in `ex`"
   ]
  },
  {
   "cell_type": "code",
   "execution_count": 10,
   "metadata": {},
   "outputs": [],
   "source": [
    "# Initialize the model\n",
    "ex = Example()\n",
    "ex.populate_Q()\n",
    "ex.populate_R()\n",
    "\n",
    "ddp = qe.markov.DiscreteDP(ex.R, ex.Q, ex.β)"
   ]
  },
  {
   "cell_type": "markdown",
   "metadata": {},
   "source": [
    "Now that we have an instance `ddp` of `DiscreteDP` we can solve it as follows"
   ]
  },
  {
   "cell_type": "code",
   "execution_count": 11,
   "metadata": {},
   "outputs": [
    {
     "name": "stdout",
     "output_type": "stream",
     "text": [
      "Elements of results: \n",
      " ['epsilon', 'max_iter', 'mc', 'method', 'num_iter', 'sigma', 'v']\n",
      "\n",
      " Method: value iteration\n",
      "\n",
      " Value function: [10.42140269 10.57765269]\n",
      "\n",
      " Policy function: [0 1]\n",
      "\n",
      " Stationary distribution of state: [[0.5 0.5]]\n",
      "\n",
      " Times of literation: 94\n",
      "\n",
      "\n",
      "Converge criteria: 0.001\n",
      "\n",
      " Max limit of literation: 250\n"
     ]
    }
   ],
   "source": [
    "results = ddp.solve(method='value_iteration')\n",
    "print(f'Elements of results: \\n {dir(results)}') \n",
    "print(f'\\n Method: {results.method}') \n",
    "print(f'\\n Value function: {results.v}')\n",
    "print(f'\\n Policy function: {results.sigma}')\n",
    "print(f'\\n Stationary distribution of state: {results.mc.stationary_distributions}')\n",
    "print(f'\\n Times of literation: {results.num_iter}')\n",
    "print('\\n')\n",
    "print(f'Converge criteria: {results.epsilon}')\n",
    "print(f'\\n Max limit of literation: {results.max_iter}')"
   ]
  },
  {
   "cell_type": "markdown",
   "metadata": {},
   "source": [
    "## Policy Iteration\n",
    "\n",
    "### Algorithm:\n",
    "1. Choose any $v^0 \\in \\mathbb{R}^n$ and compute a $v^0$-greedy policy $\\sigma^0$; set $i = 0$.  \n",
    "2. Compute the value $v_{\\sigma^i}$ by solving the equation $v = T_{\\sigma^i} v$.  \n",
    "3. Compute a $v_{\\sigma^i}$-greedy policy $\\sigma^{i+1}$; let $\\sigma^{i+1} = \\sigma^i$ if possible.  \n",
    "4. If $\\sigma^{i+1} = \\sigma^i$, then return $v_{\\sigma^i}$ and $\\sigma^{i+1}$; otherwise, set $i = i + 1$ and go to step 2.\n",
    "\n",
    "Thus, implementing this algorithm requires two steps: **Policy Evaluation** and **Policy Improvement**.  \n",
    "- In Policy Evaluation, the value function for policy $v_\\sigma$  is computed given an initial policy $\\sigma$.\n",
    "- In Policy Improvement, the policy $\\sigma$ is updated by optimal choices of $v_\\sigma$ until the policy function converges."
   ]
  },
  {
   "cell_type": "markdown",
   "metadata": {},
   "source": [
    "### Program by hand"
   ]
  },
  {
   "cell_type": "code",
   "execution_count": 12,
   "metadata": {},
   "outputs": [],
   "source": [
    "def policy_iteration(ex,max_iter=500):\n",
    "    # Definition\n",
    "    β, R, Q=ex.β, ex.R, ex.Q\n",
    "\n",
    "    # Initialize the iteration\n",
    "    iter=0\n",
    "    policy = np.zeros(ex.n, dtype=int)\n",
    "    V = np.zeros(ex.n)\n",
    "\n",
    "    is_policy_stable = False\n",
    "    while not is_policy_stable and iter<max_iter:\n",
    "        # Policy evaluation\n",
    "        V = ex.policy_evaluation(policy, V)\n",
    "    \n",
    "        # Policy improvement\n",
    "        is_policy_stable = True\n",
    "        for s in range(ex.n):\n",
    "            old_action = policy[s]\n",
    "            action_values = np.zeros(ex.m)\n",
    "            \n",
    "            for a in range(ex.m):\n",
    "                action_values[a] = R[s, a] + β * np.sum(Q[s, a, :] * V)\n",
    "            \n",
    "            best_action = np.argmax(action_values)\n",
    "            policy[s] = best_action\n",
    "        \n",
    "            if old_action != best_action:\n",
    "                is_policy_stable = False\n",
    "        iter += 1\n",
    "    return V, policy"
   ]
  },
  {
   "cell_type": "code",
   "execution_count": 13,
   "metadata": {},
   "outputs": [
    {
     "name": "stdout",
     "output_type": "stream",
     "text": [
      "Value function: [10.42186755 10.578118  ]\n",
      "Policy function: [0 1]\n",
      "The result is equal to the value function iteration\n"
     ]
    }
   ],
   "source": [
    "# Initialize the model\n",
    "ex = Example()\n",
    "ex.populate_Q()\n",
    "ex.populate_R()\n",
    "\n",
    "V,policy = policy_iteration(ex,max_iter=500)\n",
    "print(f'Value function: {V}')\n",
    "print(f'Policy function: {policy}')\n",
    "print('The result is equal to the value function iteration')"
   ]
  },
  {
   "cell_type": "markdown",
   "metadata": {},
   "source": [
    "### Program of `quantecon`"
   ]
  },
  {
   "cell_type": "code",
   "execution_count": 14,
   "metadata": {},
   "outputs": [
    {
     "name": "stdout",
     "output_type": "stream",
     "text": [
      "Elements of results: \n",
      " ['max_iter', 'mc', 'method', 'num_iter', 'sigma', 'v']\n",
      "\n",
      " Method: policy iteration\n",
      "\n",
      " Value function: [10.421875 10.578125]\n",
      "\n",
      " Policy function: [0 1]\n",
      "\n",
      " Stationary distribution of state: [[0.5 0.5]]\n",
      "\n",
      " Times of literation: 1\n",
      "\n",
      "\n",
      "\n",
      " Max limit of literation: 250\n"
     ]
    }
   ],
   "source": [
    "# Initialize the model\n",
    "ex = Example()\n",
    "ex.populate_Q()\n",
    "ex.populate_R()\n",
    "\n",
    "# Define the discrete dynamic programming problem\n",
    "ddp = qe.markov.DiscreteDP(ex.R, ex.Q, ex.β)\n",
    "\n",
    "results = ddp.solve(method='policy_iteration')\n",
    "print(f'Elements of results: \\n {dir(results)}') \n",
    "print(f'\\n Method: {results.method}') \n",
    "print(f'\\n Value function: {results.v}')\n",
    "print(f'\\n Policy function: {results.sigma}')\n",
    "print(f'\\n Stationary distribution of state: {results.mc.stationary_distributions}')\n",
    "print(f'\\n Times of literation: {results.num_iter}')\n",
    "print('\\n')\n",
    "print(f'\\n Max limit of literation: {results.max_iter}')"
   ]
  }
 ],
 "metadata": {
  "kernelspec": {
   "display_name": "base",
   "language": "python",
   "name": "python3"
  },
  "language_info": {
   "codemirror_mode": {
    "name": "ipython",
    "version": 3
   },
   "file_extension": ".py",
   "mimetype": "text/x-python",
   "name": "python",
   "nbconvert_exporter": "python",
   "pygments_lexer": "ipython3",
   "version": "3.12.3"
  }
 },
 "nbformat": 4,
 "nbformat_minor": 2
}
